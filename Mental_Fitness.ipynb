{
  "cells": [
    {
      "attachments": {},
      "cell_type": "markdown",
      "metadata": {},
      "source": [
        "[Open in Colab](https://colab.research.google.com/drive/1Yug5gxYFipTv80K2fnN1XrEXeVQ9-coj?usp=drive_link)"
      ]
    },
    {
      "attachments": {},
      "cell_type": "markdown",
      "metadata": {
        "id": "QGvLKUFl5i8f"
      },
      "source": [
        "IMPORTING REQUIRED LIBRARIES"
      ]
    },
    {
      "cell_type": "code",
      "execution_count": null,
      "metadata": {
        "id": "vydwaajgJOYP"
      },
      "outputs": [],
      "source": [
        "import pandas as pd\n",
        "import numpy as np\n"
      ]
    },
    {
      "cell_type": "code",
      "execution_count": null,
      "metadata": {
        "id": "CB6Re2WUJvCz"
      },
      "outputs": [],
      "source": [
        "\n",
        "import seaborn as sns\n",
        "import matplotlib.pyplot as plt\n",
        "import plotly.express as px\n",
        "import warnings\n",
        "warnings.filterwarnings('ignore')"
      ]
    },
    {
      "cell_type": "markdown",
      "metadata": {
        "id": "EAKnddPB6bE-"
      },
      "source": [
        "READING DATASETS\n"
      ]
    },
    {
      "cell_type": "code",
      "execution_count": null,
      "metadata": {
        "id": "56koP1Gt4p0m"
      },
      "outputs": [],
      "source": [
        "df1 = pd.read_csv('mental-and-substance-use-as-share-of-disease.csv')\n",
        "df2=pd.read_csv(\"prevalence-by-mental-and-substance-use-disorder.csv\")"
      ]
    },
    {
      "cell_type": "code",
      "execution_count": null,
      "metadata": {
        "colab": {
          "base_uri": "https://localhost:8080/",
          "height": 206
        },
        "id": "yFVvWaoz5Drv",
        "outputId": "fd96c82d-3e73-49a7-90ad-79a474ed91e8"
      },
      "outputs": [],
      "source": [
        "df1.head()"
      ]
    },
    {
      "cell_type": "code",
      "execution_count": null,
      "metadata": {
        "colab": {
          "base_uri": "https://localhost:8080/",
          "height": 337
        },
        "id": "Fm-0wXkn5aP2",
        "outputId": "d6fb9537-0300-4e09-b57f-1a85a3df8d14"
      },
      "outputs": [],
      "source": [
        "df2.head()"
      ]
    },
    {
      "cell_type": "markdown",
      "metadata": {
        "id": "kzn8wbbF6uLm"
      },
      "source": [
        "MERGING TWO DATASETS"
      ]
    },
    {
      "cell_type": "code",
      "execution_count": null,
      "metadata": {
        "colab": {
          "base_uri": "https://localhost:8080/",
          "height": 389
        },
        "id": "Saom2ljJP211",
        "outputId": "d43470f6-d8cf-40cf-c367-4a73593b1d60"
      },
      "outputs": [],
      "source": [
        "data = pd.merge(df1, df2)\n",
        "data.head()"
      ]
    },
    {
      "cell_type": "markdown",
      "metadata": {
        "id": "TbgIjbiE7TC1"
      },
      "source": [
        "DATA CLEANING\n"
      ]
    },
    {
      "cell_type": "code",
      "execution_count": null,
      "metadata": {
        "colab": {
          "base_uri": "https://localhost:8080/"
        },
        "id": "-QsNIPasPF-8",
        "outputId": "0fe1ed0d-cd1c-450c-de26-9d01bb3152ed"
      },
      "outputs": [],
      "source": [
        "data.isnull().sum()"
      ]
    },
    {
      "cell_type": "code",
      "execution_count": null,
      "metadata": {
        "id": "VLlTGd_vJTW3"
      },
      "outputs": [],
      "source": [
        "data.drop('Code', axis=1, inplace=True)"
      ]
    },
    {
      "cell_type": "code",
      "execution_count": null,
      "metadata": {
        "colab": {
          "base_uri": "https://localhost:8080/"
        },
        "id": "-rDN7MRuSXJy",
        "outputId": "851b2974-b0d9-4d30-a3cf-18927f5bbc30"
      },
      "outputs": [],
      "source": [
        "data.size,data.shape"
      ]
    },
    {
      "cell_type": "code",
      "execution_count": null,
      "metadata": {
        "id": "9vyCDxDlQgfK"
      },
      "outputs": [],
      "source": [
        "data.set_axis(['Country','Year','Schizophrenia', 'Bipolar_disorder', 'Eating_disorder','Anxiety','drug_usage','depression','alcohol','mental_fitness'], axis='columns', inplace=True)"
      ]
    },
    {
      "cell_type": "code",
      "execution_count": null,
      "metadata": {
        "colab": {
          "base_uri": "https://localhost:8080/",
          "height": 206
        },
        "id": "BnAKNvsl2Jlg",
        "outputId": "065aacd8-8ca0-47fb-8144-9fc5637ee2b8"
      },
      "outputs": [],
      "source": [
        "data.head()"
      ]
    },
    {
      "cell_type": "markdown",
      "metadata": {
        "id": "l4cMtKGT9oZs"
      },
      "source": [
        "EXPLORATORY ANALYSIS\n"
      ]
    },
    {
      "cell_type": "code",
      "execution_count": null,
      "metadata": {
        "colab": {
          "base_uri": "https://localhost:8080/",
          "height": 644
        },
        "id": "C2ap38HE9t_k",
        "outputId": "99cf3e52-9fe3-444c-9388-67daea546526"
      },
      "outputs": [],
      "source": [
        "plt.figure(figsize=(12,6))\n",
        "sns.heatmap(data.corr(),annot=True,cmap='Greens')\n",
        "plt.plot()"
      ]
    },
    {
      "cell_type": "code",
      "execution_count": null,
      "metadata": {
        "colab": {
          "base_uri": "https://localhost:8080/",
          "height": 607
        },
        "id": "U-vYFvf2-abk",
        "outputId": "b003247d-13b1-441f-cf11-d5a52ae3bf5b"
      },
      "outputs": [],
      "source": [
        "\n",
        "sns.jointplot(data,x=\"Schizophrenia\",y=\"mental_fitness\",kind=\"reg\",color=\"m\")\n",
        "plt.show()"
      ]
    },
    {
      "cell_type": "code",
      "execution_count": null,
      "metadata": {
        "colab": {
          "base_uri": "https://localhost:8080/",
          "height": 607
        },
        "id": "e9I5Haub_tZD",
        "outputId": "d24b4550-dc85-401e-f78b-1f7b4651f850"
      },
      "outputs": [],
      "source": [
        "sns.jointplot(data,x='Bipolar_disorder',y='mental_fitness',kind='reg',color='blue')\n",
        "plt.show()"
      ]
    },
    {
      "cell_type": "code",
      "execution_count": null,
      "metadata": {
        "colab": {
          "base_uri": "https://localhost:8080/",
          "height": 1000
        },
        "id": "rnBSN3Jg_iOr",
        "outputId": "cbc893b3-6a82-4384-b81a-9876e5b47c66"
      },
      "outputs": [],
      "source": [
        "sns.pairplot(data,corner=True)\n",
        "plt.show()"
      ]
    },
    {
      "cell_type": "code",
      "execution_count": null,
      "metadata": {
        "colab": {
          "base_uri": "https://localhost:8080/"
        },
        "id": "EqxAneVg_cyz",
        "outputId": "dd5c1e23-e2c3-4057-ae8c-a2ab254952f5"
      },
      "outputs": [],
      "source": [
        "mean = data['mental_fitness'].mean()\n",
        "mean"
      ]
    },
    {
      "cell_type": "code",
      "execution_count": null,
      "metadata": {
        "colab": {
          "base_uri": "https://localhost:8080/",
          "height": 542
        },
        "id": "6kA1a-oV_VvC",
        "outputId": "eecfede7-afa6-4683-eb9b-bceb0015407a"
      },
      "outputs": [],
      "source": [
        "fig = px.pie(data, values='mental_fitness', names='Year')\n",
        "fig.show()"
      ]
    },
    {
      "cell_type": "code",
      "execution_count": null,
      "metadata": {
        "colab": {
          "base_uri": "https://localhost:8080/",
          "height": 542
        },
        "id": "UfnPFMOh_PAD",
        "outputId": "0937b6d6-4798-4aff-b401-bad57beed453"
      },
      "outputs": [],
      "source": [
        "fig=px.bar(data.head(10),x='Year',y='mental_fitness',color='Year',template='ggplot2')\n",
        "fig.show()"
      ]
    },
    {
      "cell_type": "markdown",
      "metadata": {
        "id": "xMOYnbDs_I1c"
      },
      "source": [
        "YEARWISE VARIATIONS IN MENTAL FITNESS OF DIFFERENT COUNTRIES\n"
      ]
    },
    {
      "cell_type": "code",
      "execution_count": null,
      "metadata": {
        "colab": {
          "base_uri": "https://localhost:8080/",
          "height": 542
        },
        "id": "4-XWPZW---Vz",
        "outputId": "ec545141-09cf-4e1e-9432-7b0bc567f70a"
      },
      "outputs": [],
      "source": [
        "fig = px.line(data, x=\"Year\", y=\"mental_fitness\", color='Country',markers=True,color_discrete_sequence=['red','blue'],template='plotly_dark')\n",
        "fig.show()"
      ]
    },
    {
      "cell_type": "code",
      "execution_count": null,
      "metadata": {
        "colab": {
          "base_uri": "https://localhost:8080/",
          "height": 206
        },
        "id": "PJkOh13TDxJ4",
        "outputId": "bd01bf35-4b54-4528-fe8f-ba9aeef4d973"
      },
      "outputs": [],
      "source": [
        "df=data.copy()\n",
        "df.head()"
      ]
    },
    {
      "cell_type": "code",
      "execution_count": null,
      "metadata": {
        "colab": {
          "base_uri": "https://localhost:8080/"
        },
        "id": "hyukip2OEX-h",
        "outputId": "702508ab-afb6-4715-f137-3082bbd4878e"
      },
      "outputs": [],
      "source": [
        "df.info()"
      ]
    },
    {
      "cell_type": "code",
      "execution_count": null,
      "metadata": {
        "id": "ryP29c9zHl9-"
      },
      "outputs": [],
      "source": [
        "from sklearn.preprocessing import LabelEncoder\n",
        "l=LabelEncoder()\n",
        "for i in df.columns:\n",
        "    if df[i].dtype == 'object':\n",
        "        df[i]=l.fit_transform(df[i])"
      ]
    },
    {
      "cell_type": "code",
      "execution_count": null,
      "metadata": {
        "id": "pBTM6hBUHqnm"
      },
      "outputs": [],
      "source": [
        "X = df.drop('mental_fitness',axis=1)\n",
        "y = df['mental_fitness']\n",
        "\n",
        "from sklearn.model_selection import train_test_split\n",
        "xtrain, xtest, ytrain, ytest = train_test_split(X, y, test_size=0.2, random_state=2)"
      ]
    },
    {
      "cell_type": "code",
      "execution_count": null,
      "metadata": {
        "id": "heG6Y_3_HvLv"
      },
      "outputs": [],
      "source": [
        "X = df.drop('mental_fitness',axis=1)\n",
        "y = df['mental_fitness']\n",
        "\n",
        "from sklearn.model_selection import train_test_split\n",
        "xtrain, xtest, ytrain, ytest = train_test_split(X, y, test_size=0.2, random_state=2)"
      ]
    },
    {
      "cell_type": "code",
      "execution_count": null,
      "metadata": {},
      "outputs": [],
      "source": [
        "print(\"xtrain: \", xtrain.shape)\n",
        "print(\"xtest: \", xtest.shape)\n",
        "print(\"ytrain: \", ytrain.shape)\n",
        "print(\"ytest: \", ytest.shape)"
      ]
    },
    {
      "cell_type": "markdown",
      "metadata": {
        "id": "3nrmki18H6tg"
      },
      "source": [
        "LINEAR REGRESSION\n"
      ]
    },
    {
      "cell_type": "code",
      "execution_count": null,
      "metadata": {
        "colab": {
          "base_uri": "https://localhost:8080/"
        },
        "id": "NOYuA1fcH71I",
        "outputId": "f3b401a5-c16d-4b55-eb2d-8c49e5cd1e7a"
      },
      "outputs": [],
      "source": [
        "from sklearn.linear_model import LinearRegression\n",
        "from sklearn.metrics import mean_squared_error, r2_score\n",
        "lr = LinearRegression()\n",
        "lr.fit(xtrain,ytrain)\n",
        "\n",
        "# model evaluation for training set\n",
        "ytrain_pred = lr.predict(xtrain)\n",
        "mse = mean_squared_error(ytrain, ytrain_pred)\n",
        "rmse = (np.sqrt(mean_squared_error(ytrain, ytrain_pred)))\n",
        "r2 = r2_score(ytrain, ytrain_pred)\n",
        "\n",
        "print(\"The model performance for training set\")\n",
        "print(\"--------------------------------------\")\n",
        "print('MSE is {}'.format(mse))\n",
        "print('RMSE is {}'.format(rmse))\n",
        "print('R2 score is {}'.format(r2))\n",
        "print(\"\\n\")\n",
        "\n",
        "# model evaluation for testing set\n",
        "ytest_pred = lr.predict(xtest)\n",
        "mse = mean_squared_error(ytest, ytest_pred)\n",
        "rmse = (np.sqrt(mean_squared_error(ytest, ytest_pred)))\n",
        "r2 = r2_score(ytest, ytest_pred)\n",
        "\n",
        "print(\"The model performance for testing set\")\n",
        "print(\"--------------------------------------\")\n",
        "print('MSE is {}'.format(mse))\n",
        "print('RMSE is {}'.format(rmse))\n",
        "print('R2 score is {}'.format(r2))"
      ]
    },
    {
      "cell_type": "markdown",
      "metadata": {
        "id": "WwCWYMt3IH2-"
      },
      "source": [
        "RANDOM FOREST REGRESSOR\n"
      ]
    },
    {
      "cell_type": "code",
      "execution_count": null,
      "metadata": {
        "colab": {
          "base_uri": "https://localhost:8080/"
        },
        "id": "wdc9LhXDIJe-",
        "outputId": "051657bb-36db-425b-9b66-d85275a256cd"
      },
      "outputs": [],
      "source": [
        "from sklearn.ensemble import RandomForestRegressor\n",
        "rf = RandomForestRegressor()\n",
        "rf.fit(xtrain, ytrain)\n",
        "\n",
        "# model evaluation for training set\n",
        "ytrain_pred = rf.predict(xtrain)\n",
        "mse = mean_squared_error(ytrain, ytrain_pred)\n",
        "rmse = (np.sqrt(mean_squared_error(ytrain, ytrain_pred)))\n",
        "r2 = r2_score(ytrain, ytrain_pred)\n",
        "\n",
        "print(\"The model performance for training set\")\n",
        "print(\"--------------------------------------\")\n",
        "print('MSE is {}'.format(mse))\n",
        "print('RMSE is {}'.format(rmse))\n",
        "print('R2 score is {}'.format(r2))\n",
        "print(\"\\n\")\n",
        "\n",
        "# model evaluation for testing set\n",
        "ytest_pred = rf.predict(xtest)\n",
        "mse = mean_squared_error(ytest, ytest_pred)\n",
        "rmse = (np.sqrt(mean_squared_error(ytest, ytest_pred)))\n",
        "r2 = r2_score(ytest, ytest_pred)\n",
        "\n",
        "print(\"The model performance for testing set\")\n",
        "print(\"--------------------------------------\")\n",
        "print('MSE is {}'.format(mse))\n",
        "print('RMSE is {}'.format(rmse))\n",
        "print('R2 score is {}'.format(r2))"
      ]
    }
  ],
  "metadata": {
    "colab": {
      "authorship_tag": "ABX9TyN7j9LKeZ9jbknUzMp1U6N8",
      "include_colab_link": true,
      "provenance": []
    },
    "kernelspec": {
      "display_name": "Python 3",
      "language": "python",
      "name": "python3"
    },
    "language_info": {
      "codemirror_mode": {
        "name": "ipython",
        "version": 3
      },
      "file_extension": ".py",
      "mimetype": "text/x-python",
      "name": "python",
      "nbconvert_exporter": "python",
      "pygments_lexer": "ipython3",
      "version": "3.11.3"
    },
    "vscode": {
      "interpreter": {
        "hash": "0186b055d1a81c50129dd896cc3d4f44bf3cbb0395302d350f2182c2273b81aa"
      }
    }
  },
  "nbformat": 4,
  "nbformat_minor": 0
}
